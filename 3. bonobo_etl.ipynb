{
 "cells": [
  {
   "cell_type": "markdown",
   "metadata": {},
   "source": [
    "# Bonobo ETL\n"
   ]
  },
  {
   "cell_type": "code",
   "execution_count": null,
   "metadata": {},
   "outputs": [],
   "source": [
    "# injectable objects\n",
    "import bonobo\n",
    "def get_services(**kwargs):\n",
    "    return {\n",
    "        'datareader': bonobo.CsvReader(\n",
    "            delimiter='|',\n",
    "            fields = [ 'id', 'city', 'date', 'actual_mean_temp', 'actual_min_temp', 'actual_max_temp', 'actual_precipitation', 'average_precipitation', 'record_precipitation', 'reserved2' ]\n",
    "            ),\n",
    "        'filename': kwargs['filename']\n",
    "    }"
   ]
  },
  {
   "cell_type": "markdown",
   "metadata": {},
   "source": [
    "Once services have been defined, add the functions involved in the process."
   ]
  },
  {
   "cell_type": "code",
   "execution_count": null,
   "metadata": {},
   "outputs": [],
   "source": [
    "from bonobo.config import use\n",
    "\n",
    "def arg0_to_kwargs(row):\n",
    "    return bonobo.Bag(**row)\n",
    "\n",
    "@use('filename')\n",
    "@use('datareader')\n",
    "def read_recs(filename, datareader):\n",
    "    print(type(datareader))\n",
    "    for rec in datareader.read(filename):\n",
    "        yield rec\n",
    "\n",
    "def transform(datain):\n",
    "    print(f'transform ...')\n",
    "    return datain\n",
    "\n",
    "def write_recs(data):\n",
    "    print(f'write_recs', data)\n",
    "    pass"
   ]
  },
  {
   "cell_type": "markdown",
   "metadata": {},
   "source": [
    "Finally, define the graph and run it."
   ]
  },
  {
   "cell_type": "code",
   "execution_count": null,
   "metadata": {},
   "outputs": [],
   "source": [
    "graph = bonobo.Graph(\n",
    "    read_recs,\n",
    "    transform,\n",
    "    arg0_to_kwargs,\n",
    "    bonobo.PrettyPrinter())\n",
    "#    write_recs)\n",
    "bonobo.run(graph, services=get_services(filename='KPHX.dat'))"
   ]
  },
  {
   "cell_type": "code",
   "execution_count": null,
   "metadata": {},
   "outputs": [],
   "source": [
    "reader = bonobo.CsvReader(\n",
    "    delimiter='|',\n",
    "    fields=['id', 'city', 'date', 'actual_mean_temp', 'actual_min_temp', 'actual_max_temp',\n",
    "            'actual_precipitation', 'average_precipitation', 'record_precipitation', 'reserved2']\n",
    ")\n",
    "print(type(reader))\n",
    "for l in reader.read(file='KPHX.dat'):\n",
    "    print(l)\n"
   ]
  },
  {
   "cell_type": "code",
   "execution_count": null,
   "metadata": {},
   "outputs": [],
   "source": []
  }
 ],
 "metadata": {
  "language_info": {
   "codemirror_mode": {
    "name": "ipython",
    "version": 3
   },
   "file_extension": ".py",
   "mimetype": "text/x-python",
   "name": "python",
   "nbconvert_exporter": "python",
   "pygments_lexer": "ipython3",
   "version": "3.7.7-final"
  },
  "orig_nbformat": 2,
  "kernelspec": {
   "name": "python37764bitjenvvenv3c22b8b579b445adbc454720daf775b2",
   "display_name": "Python 3.7.7 64-bit ('jenv': venv)"
  }
 },
 "nbformat": 4,
 "nbformat_minor": 2
}
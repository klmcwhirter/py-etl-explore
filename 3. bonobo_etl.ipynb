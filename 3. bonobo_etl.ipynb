{
 "cells": [
  {
   "cell_type": "markdown",
   "metadata": {},
   "source": [
    "# Bonobo ETL\n"
   ]
  },
  {
   "cell_type": "code",
   "execution_count": null,
   "metadata": {},
   "outputs": [],
   "source": [
    "# injectable objects\n",
    "import bonobo\n",
    "def get_services(**kwargs):\n",
    "    return {\n",
    "        'fieldnames': [ 'id', 'city', 'date', 'actual_mean_temp', 'actual_min_temp', 'actual_max_temp', 'actual_precipitation', 'average_precipitation', 'record_precipitation', 'reserved2' ],\n",
    "        'filename': kwargs['filename']\n",
    "    }"
   ]
  },
  {
   "cell_type": "markdown",
   "metadata": {},
   "source": [
    "Once services have been defined, add the functions involved in the process."
   ]
  },
  {
   "cell_type": "code",
   "execution_count": null,
   "metadata": {},
   "outputs": [],
   "source": [
    "from bonobo.config import use\n",
    "import csv\n",
    "csv.register_dialect('pipe_delim', delimiter='|')\n",
    "\n",
    "from models.weather import Weather\n",
    "\n",
    "def arg0_to_kwargs(row):\n",
    "    return bonobo.Bag(**row)\n",
    "\n",
    "@use('filename')\n",
    "@use('fieldnames')\n",
    "def read_recs(filename, fieldnames):\n",
    "    with open(filename, newline='') as f:\n",
    "        reader = csv.DictReader(f, dialect='pipe_delim', fieldnames=fieldnames)\n",
    "        for row in reader:\n",
    "            print(f'read_recs: row={row}')\n",
    "\n",
    "            del row[None] # remove unused fields\n",
    "\n",
    "            weatherrec = Weather(**row)\n",
    "            print(f'read_recs: weatherrec={weatherrec}')\n",
    "            \n",
    "            yield weatherrec\n",
    "\n",
    "def transform(datain):\n",
    "    print(f'transform ...')\n",
    "    return datain\n",
    "\n",
    "def write_recs(data):\n",
    "    print(f'write_recs', data)\n",
    "    pass"
   ]
  },
  {
   "cell_type": "markdown",
   "metadata": {},
   "source": [
    "Finally, define the graph and run it."
   ]
  },
  {
   "cell_type": "code",
   "execution_count": null,
   "metadata": {
    "tags": [
     "outputPrepend"
    ]
   },
   "outputs": [],
   "source": [
    "graph = bonobo.Graph(\n",
    "    read_recs,\n",
    "    # transform,\n",
    "    # arg0_to_kwargs,\n",
    "    # bonobo.PrettyPrinter())\n",
    "    write_recs)\n",
    "bonobo.run(graph, services=get_services(filename='data/inbound/KPHX_with_reserved.dat'))"
   ]
  },
  {
   "cell_type": "code",
   "execution_count": null,
   "metadata": {},
   "outputs": [],
   "source": []
  }
 ],
 "metadata": {
  "language_info": {
   "codemirror_mode": {
    "name": "ipython",
    "version": 3
   },
   "file_extension": ".py",
   "mimetype": "text/x-python",
   "name": "python",
   "nbconvert_exporter": "python",
   "pygments_lexer": "ipython3",
   "version": "3.7.7-final"
  },
  "orig_nbformat": 2,
  "kernelspec": {
   "name": "python37764bitvenvvenva655b8c9ca8747ef9a83c4f3a024b227",
   "display_name": "Python 3.7.7 64-bit ('venv': venv)"
  }
 },
 "nbformat": 4,
 "nbformat_minor": 2
}
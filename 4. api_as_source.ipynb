{
 "cells": [
  {
   "cell_type": "markdown",
   "metadata": {},
   "source": [
    "# API as data source"
   ]
  },
  {
   "cell_type": "code",
   "execution_count": null,
   "metadata": {},
   "outputs": [],
   "source": [
    "import requests\n",
    "\n",
    "response = requests.get('https://randomuser.me/api/?results=10')\n",
    "response"
   ]
  },
  {
   "cell_type": "code",
   "execution_count": null,
   "metadata": {},
   "outputs": [],
   "source": [
    "data = response.json()"
   ]
  },
  {
   "cell_type": "code",
   "execution_count": null,
   "metadata": {},
   "outputs": [],
   "source": [
    "debug = False\n",
    "\n",
    "if debug:\n",
    "    import pprint\n",
    "    pp = pprint.PrettyPrinter()\n",
    "    pp.pprint(data)"
   ]
  },
  {
   "cell_type": "code",
   "execution_count": null,
   "metadata": {},
   "outputs": [],
   "source": [
    "data['info']"
   ]
  },
  {
   "cell_type": "markdown",
   "metadata": {},
   "source": [
    "## ETL starts here ..."
   ]
  },
  {
   "cell_type": "code",
   "execution_count": null,
   "metadata": {},
   "outputs": [],
   "source": [
    "import bonobo\n",
    "from bonobo.config import use\n",
    "import pprint\n",
    "import requests\n",
    "\n",
    "def get_services():\n",
    "    return {\n",
    "        'randomusers_baseurl': 'https://randomuser.me/api/',\n",
    "        'num_results': 10,\n",
    "        'pprinter': pprint.PrettyPrinter()\n",
    "    }\n",
    "\n",
    "@use('randomusers_baseurl')\n",
    "@use('num_results')\n",
    "def get_n_users(randomusers_baseurl, num_results):\n",
    "    url = f'{randomusers_baseurl}?results={num_results}'\n",
    "    response = requests.get(url)\n",
    "    if response.ok:\n",
    "        data = response.json()\n",
    "        if data['info']['results']:\n",
    "            for rec in data['results']:\n",
    "                yield rec\n",
    "\n",
    "@use('pprinter')\n",
    "def pprint_rec(rec, pprinter):\n",
    "    pprinter.pprint(rec)\n",
    "\n",
    "graph = bonobo.Graph(\n",
    "    get_n_users,\n",
    "    pprint_rec\n",
    ")\n",
    "\n",
    "result = bonobo.run(graph, services=get_services())\n"
   ]
  },
  {
   "cell_type": "code",
   "execution_count": null,
   "metadata": {},
   "outputs": [],
   "source": [
    "dir(result)"
   ]
  },
  {
   "cell_type": "code",
   "execution_count": null,
   "metadata": {},
   "outputs": [],
   "source": []
  }
 ],
 "metadata": {
  "language_info": {
   "codemirror_mode": {
    "name": "ipython",
    "version": 3
   },
   "file_extension": ".py",
   "mimetype": "text/x-python",
   "name": "python",
   "nbconvert_exporter": "python",
   "pygments_lexer": "ipython3",
   "version": "3.7.7-final"
  },
  "orig_nbformat": 2,
  "kernelspec": {
   "name": "python37764bitvenvvenva655b8c9ca8747ef9a83c4f3a024b227",
   "display_name": "Python 3.7.7 64-bit ('venv': venv)"
  }
 },
 "nbformat": 4,
 "nbformat_minor": 2
}
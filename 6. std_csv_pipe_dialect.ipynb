{
 "cells": [
  {
   "cell_type": "markdown",
   "metadata": {},
   "source": [
    "# Register pipe_delimited dialect\n",
    "\n",
    "See [Dialects and Formatting Parameters](https://docs.python.org/3.7/library/csv.html#dialects-and-formatting-parameters)"
   ]
  },
  {
   "cell_type": "code",
   "execution_count": null,
   "metadata": {},
   "outputs": [],
   "source": [
    "import csv\n",
    "csv.register_dialect('pipe_delim', delimiter='|')"
   ]
  },
  {
   "cell_type": "markdown",
   "metadata": {},
   "source": [
    "collect field names"
   ]
  },
  {
   "cell_type": "code",
   "execution_count": null,
   "metadata": {},
   "outputs": [],
   "source": [
    "fields=['id', 'city', 'date', 'actual_mean_temp', 'actual_min_temp', 'actual_max_temp',\n",
    "                    'actual_precipitation', 'average_precipitation', 'record_precipitation', 'reserved2']"
   ]
  },
  {
   "cell_type": "markdown",
   "metadata": {},
   "source": [
    "prepare to construct entities"
   ]
  },
  {
   "cell_type": "code",
   "execution_count": null,
   "metadata": {},
   "outputs": [],
   "source": [
    "from models.weather import Weather"
   ]
  },
  {
   "cell_type": "markdown",
   "metadata": {},
   "source": [
    "Open file and do it\n",
    "\n",
    "See [DictReader](https://docs.python.org/3.7/library/csv.html#csv.DictReader)\n",
    "> If a row has more fields than fieldnames, the remaining data is put in a list and stored\n",
    "> with the fieldname specified by restkey (which defaults to None).\n",
    "\n",
    "Hence, the del below.\n"
   ]
  },
  {
   "cell_type": "code",
   "execution_count": null,
   "metadata": {
    "tags": [
     "outputPrepend"
    ]
   },
   "outputs": [],
   "source": [
    "with open('../data/KPHX_with_reserved.dat', newline='') as f:\n",
    "    reader = csv.DictReader(f, dialect='pipe_delim', fieldnames=fields)\n",
    "    for row in reader:\n",
    "        print(f'row={row}')\n",
    "\n",
    "        del row[None] # remove unused fields\n",
    "\n",
    "        weatherrec = Weather(**row)\n",
    "        print(f'weatherrec={weatherrec}')"
   ]
  },
  {
   "cell_type": "code",
   "execution_count": null,
   "metadata": {},
   "outputs": [],
   "source": []
  }
 ],
 "metadata": {
  "language_info": {
   "codemirror_mode": {
    "name": "ipython",
    "version": 3
   },
   "file_extension": ".py",
   "mimetype": "text/x-python",
   "name": "python",
   "nbconvert_exporter": "python",
   "pygments_lexer": "ipython3",
   "version": "3.7.7-final"
  },
  "orig_nbformat": 2,
  "kernelspec": {
   "name": "python37764bitjenvvenv3c22b8b579b445adbc454720daf775b2",
   "display_name": "Python 3.7.7 64-bit ('jenv': venv)"
  }
 },
 "nbformat": 4,
 "nbformat_minor": 2
}
{
 "cells": [
  {
   "cell_type": "markdown",
   "metadata": {},
   "source": [
    "# Writing data\n",
    "\n",
    "In this example we write to a sqlite3 b using SQL Alchemy\n",
    "\n",
    "See also:\n",
    "* [SQL Alchemy Tutorial](https://docs.sqlalchemy.org/en/13/orm/tutorial.html)\n",
    "* [sqlite at SQl Alchemy](https://docs.sqlalchemy.org/en/13/dialects/sqlite.html)\n"
   ]
  },
  {
   "cell_type": "code",
   "execution_count": null,
   "metadata": {},
   "outputs": [],
   "source": [
    "import pandas as pd\n",
    "\n",
    "import sqlite3"
   ]
  },
  {
   "cell_type": "code",
   "execution_count": null,
   "metadata": {},
   "outputs": [],
   "source": [
    "import sqlalchemy\n",
    "sqlalchemy.__version__"
   ]
  },
  {
   "cell_type": "markdown",
   "metadata": {},
   "source": [
    "## Create the engine --> echo=True utiizes the integration with Python logging to display SQL\n",
    "To make the output more brief set ```echo=False```."
   ]
  },
  {
   "cell_type": "code",
   "execution_count": null,
   "metadata": {},
   "outputs": [],
   "source": [
    "from sqlalchemy import create_engine\n",
    "# conn_string = 'sqlite:///etl.db'\n",
    "conn_string = 'sqlite:///:memory:'\n",
    "engine = create_engine(conn_string, echo=True)"
   ]
  },
  {
   "cell_type": "markdown",
   "metadata": {},
   "source": [
    "## Declare a Base from which concrete classes should extend."
   ]
  },
  {
   "cell_type": "code",
   "execution_count": null,
   "metadata": {},
   "outputs": [],
   "source": [
    "from sqlalchemy.ext.declarative import declarative_base\n",
    "Base = declarative_base()"
   ]
  },
  {
   "cell_type": "markdown",
   "metadata": {},
   "source": [
    "## Define a class that provides the OR/M - mapping"
   ]
  },
  {
   "cell_type": "code",
   "execution_count": null,
   "metadata": {},
   "outputs": [],
   "source": [
    "from sqlalchemy import Column, Date, Float, Integer, String\n",
    "class Weather(Base):\n",
    "    __tablename__ = 'weather'\n",
    "\n",
    "    id = Column(Integer, primary_key=True)\n",
    "\n",
    "    city = Column(String)\n",
    "    date = Column(Date)\n",
    "    actual_mean_temp = Column(Integer)\n",
    "    actual_min_temp = Column(Integer)\n",
    "    actual_max_temp = Column(Integer)\n",
    "\n",
    "    actual_precipitation = Column(Float)\n",
    "    average_precipitation = Column(Float)\n",
    "    record_precipitation = Column(Float)\n",
    "\n",
    "    reserved2 = Column(String)\n",
    "\n",
    "    # this is optional - only here for easily reading output later in this notebook\n",
    "    def __repr__(self):\n",
    "        return \"<Weather(id=%d, date='%s', actual_mean_temp=%d, actual_min_temp=%d, actual_max_temp=%d, actual_precipitation=%f, average_precipitation=%f, record_precipitation=%f, reserved2='%s')>\" % (\n",
    "            self.id,\n",
    "            self.date,\n",
    "            self.actual_mean_temp,\n",
    "            self.actual_min_temp,\n",
    "            self.actual_max_temp,\n",
    "            self.actual_precipitation,\n",
    "            self.average_precipitation,\n",
    "            self.record_precipitation,\n",
    "            self.reserved2\n",
    "            )"
   ]
  },
  {
   "cell_type": "code",
   "execution_count": null,
   "metadata": {},
   "outputs": [],
   "source": [
    "Weather.__table__"
   ]
  },
  {
   "cell_type": "code",
   "execution_count": null,
   "metadata": {},
   "outputs": [],
   "source": [
    "Base.metadata.create_all(engine)"
   ]
  },
  {
   "cell_type": "markdown",
   "metadata": {},
   "source": [
    "## The resulting class is a POPO"
   ]
  },
  {
   "cell_type": "code",
   "execution_count": null,
   "metadata": {},
   "outputs": [],
   "source": [
    "from datetime import datetime\n",
    "w1 = Weather(\n",
    "    id=1,\n",
    "    date=datetime.strptime('2020-05-24', '%Y-%m-%d'),\n",
    "    actual_mean_temp=82, actual_min_temp=57, actual_max_temp=84,\n",
    "    actual_precipitation=0.0, average_precipitation=0.0, record_precipitation=0.0,\n",
    "    reserved2='reserved2')\n",
    "w1"
   ]
  },
  {
   "cell_type": "code",
   "execution_count": null,
   "metadata": {},
   "outputs": [],
   "source": [
    "w1.date"
   ]
  },
  {
   "cell_type": "code",
   "execution_count": null,
   "metadata": {},
   "outputs": [],
   "source": [
    "w1.actual_max_temp"
   ]
  },
  {
   "cell_type": "code",
   "execution_count": null,
   "metadata": {},
   "outputs": [],
   "source": [
    "w1.id"
   ]
  },
  {
   "cell_type": "markdown",
   "metadata": {},
   "source": [
    "## Make a session"
   ]
  },
  {
   "cell_type": "code",
   "execution_count": null,
   "metadata": {},
   "outputs": [],
   "source": [
    "from sqlalchemy.orm import sessionmaker\n",
    "Session = sessionmaker(bind=engine)\n",
    "session = Session()"
   ]
  },
  {
   "cell_type": "markdown",
   "metadata": {},
   "source": [
    "## Add record"
   ]
  },
  {
   "cell_type": "code",
   "execution_count": null,
   "metadata": {},
   "outputs": [],
   "source": [
    "session.add(w1)"
   ]
  },
  {
   "cell_type": "markdown",
   "metadata": {},
   "source": [
    "## Cause flush by querying"
   ]
  },
  {
   "cell_type": "code",
   "execution_count": null,
   "metadata": {},
   "outputs": [],
   "source": [
    "our_weather = session.query(Weather).filter_by(id=1).first()\n",
    "our_weather"
   ]
  },
  {
   "cell_type": "markdown",
   "metadata": {},
   "source": [
    "## Clear db"
   ]
  },
  {
   "cell_type": "code",
   "execution_count": null,
   "metadata": {},
   "outputs": [],
   "source": [
    "session.query(Weather).delete()\n",
    "session.query(Weather).count()"
   ]
  },
  {
   "cell_type": "markdown",
   "metadata": {},
   "source": [
    "## Populate from file\n",
    "\n",
    "_Note that we can select fields that we want and ignore the rest. This will make it easy to absorb file format changes._\n"
   ]
  },
  {
   "cell_type": "code",
   "execution_count": null,
   "metadata": {},
   "outputs": [],
   "source": [
    "df_with_reserved = pd.read_table('../data/KPHX_with_reserved.dat', sep='|', header=0,\n",
    "    usecols=[\n",
    "        'id','city','date','actual_mean_temp','actual_min_temp','actual_max_temp','actual_precipitation','average_precipitation','record_precipitation','reserved2'\n",
    "        ],\n",
    "    dtype = {\n",
    "        'id': 'int', 'city': 'string',\n",
    "        #'date': '?', # let parser handle the converion - see https://stackoverflow.com/questions/21269399/datetime-dtypes-in-pandas-read-csv\n",
    "        'actual_mean_temp': 'int8', 'actual_min_temp': 'int8','actual_max_temp': 'int8',\n",
    "        # 'actual_precipitation','average_precipitation','record_precipitation',\n",
    "        'reserved2': 'string'\n",
    "    },\n",
    "    # These next three are needed to parse and optimize datetime input handling\n",
    "    parse_dates = [2],\n",
    "    infer_datetime_format = True,\n",
    "    date_parser = pd.to_datetime\n",
    ")\n",
    "\n",
    "for index, row in df_with_reserved.iterrows():\n",
    "    w = Weather(**row)\n",
    "    session.add(w)\n",
    "\n",
    "session.commit()"
   ]
  },
  {
   "cell_type": "markdown",
   "metadata": {},
   "source": [
    "### Should see 365 rows"
   ]
  },
  {
   "cell_type": "code",
   "execution_count": null,
   "metadata": {},
   "outputs": [],
   "source": [
    "print('Should have 365 rows.')\n",
    "session.query(Weather).count()"
   ]
  },
  {
   "cell_type": "markdown",
   "metadata": {},
   "source": [
    "### All the rows"
   ]
  },
  {
   "cell_type": "code",
   "execution_count": null,
   "metadata": {
    "tags": [
     "outputPrepend"
    ]
   },
   "outputs": [],
   "source": [
    "for row in session.query(Weather):\n",
    "    print(row)"
   ]
  },
  {
   "cell_type": "code",
   "execution_count": null,
   "metadata": {},
   "outputs": [],
   "source": []
  }
 ],
 "metadata": {
  "language_info": {
   "codemirror_mode": {
    "name": "ipython",
    "version": 3
   },
   "file_extension": ".py",
   "mimetype": "text/x-python",
   "name": "python",
   "nbconvert_exporter": "python",
   "pygments_lexer": "ipython3",
   "version": "3.7.7-final"
  },
  "orig_nbformat": 2,
  "kernelspec": {
   "name": "python37764bitjenvvenv3c22b8b579b445adbc454720daf775b2",
   "display_name": "Python 3.7.7 64-bit ('jenv': venv)"
  }
 },
 "nbformat": 4,
 "nbformat_minor": 2
}
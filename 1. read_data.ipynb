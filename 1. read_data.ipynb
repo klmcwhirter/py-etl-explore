{
 "cells": [
  {
   "cell_type": "markdown",
   "metadata": {},
   "source": [
    "## Using read_csv and read_table to:\n",
    "* parse csv files\n",
    "* parse pipe delimited files\n",
    "* select specific fields\n",
    "* specify input types for specific fields"
   ]
  },
  {
   "cell_type": "code",
   "execution_count": null,
   "metadata": {},
   "outputs": [],
   "source": [
    "import numpy as np\n",
    "import pandas as pd"
   ]
  },
  {
   "cell_type": "markdown",
   "metadata": {},
   "source": [
    "Default usage of read_csv allows for simply identifying the file to read."
   ]
  },
  {
   "cell_type": "code",
   "execution_count": null,
   "metadata": {},
   "outputs": [],
   "source": [
    "# pd.read_csv('KPHX.csv')"
   ]
  },
  {
   "cell_type": "markdown",
   "metadata": {},
   "source": [
    "### Format the input data"
   ]
  },
  {
   "cell_type": "markdown",
   "metadata": {},
   "source": [
    "```awk '{ printf(\"%s|%s|%s|reserved1|reserved2|reserved\\n\", NR <= 1 ? \"id\" : NR - 1 + \"\", NR <= 1 ? \"city\" : \"PHX\", $0); }' KPHX.dat >KPHX_with_reserved.dat```"
   ]
  },
  {
   "cell_type": "markdown",
   "metadata": {},
   "source": [
    "There are many options to read table. Here I show specifying a field separator and specific columns to read into the DataFrame.\n",
    "\n",
    "_See [read_table](https://pandas.pydata.org/docs/reference/api/pandas.read_table.html)_"
   ]
  },
  {
   "cell_type": "code",
   "execution_count": null,
   "metadata": {},
   "outputs": [],
   "source": [
    "df_with_reserved = pd.read_table('../data/KPHX_with_reserved.dat', sep='|', header=0,\n",
    "    usecols=[\n",
    "        'id','city','date','actual_mean_temp','actual_min_temp','actual_max_temp','actual_precipitation','average_precipitation','record_precipitation','reserved2'\n",
    "        ],\n",
    "    dtype = {\n",
    "        'id': 'int', 'city': 'string',\n",
    "        #'date': '?', # let parser handle the converion - see https://stackoverflow.com/questions/21269399/datetime-dtypes-in-pandas-read-csv\n",
    "        'actual_mean_temp': 'int8', 'actual_min_temp': 'int8','actual_max_temp': 'int8',\n",
    "        # 'actual_precipitation','average_precipitation','record_precipitation',\n",
    "        'reserved2': 'string'\n",
    "    },\n",
    "    # These next three are needed to parse and optimize datetime input handling\n",
    "    parse_dates = [2],\n",
    "    infer_datetime_format = True,\n",
    "    date_parser = pd.to_datetime\n",
    "    )"
   ]
  },
  {
   "cell_type": "code",
   "execution_count": null,
   "metadata": {},
   "outputs": [],
   "source": [
    "df_with_reserved"
   ]
  },
  {
   "cell_type": "code",
   "execution_count": null,
   "metadata": {},
   "outputs": [],
   "source": [
    "df_with_reserved.dtypes"
   ]
  }
 ],
 "metadata": {
  "language_info": {
   "codemirror_mode": {
    "name": "ipython",
    "version": 3
   },
   "file_extension": ".py",
   "mimetype": "text/x-python",
   "name": "python",
   "nbconvert_exporter": "python",
   "pygments_lexer": "ipython3",
   "version": "3.7.7-final"
  },
  "orig_nbformat": 2,
  "kernelspec": {
   "name": "python37764bitjenvvenve1e4faded9124984a66eea47a83aaa4f",
   "display_name": "Python 3.7.7 64-bit ('jenv': venv)"
  }
 },
 "nbformat": 4,
 "nbformat_minor": 2
}
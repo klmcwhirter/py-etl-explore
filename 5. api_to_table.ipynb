{
 "cells": [
  {
   "cell_type": "markdown",
   "metadata": {},
   "source": [
    "# JSON to table"
   ]
  },
  {
   "cell_type": "markdown",
   "metadata": {},
   "source": [
    "## make API request"
   ]
  },
  {
   "cell_type": "code",
   "execution_count": null,
   "metadata": {},
   "outputs": [],
   "source": [
    "import requests\n",
    "\n",
    "baseurl = 'https://randomuser.me/api/'\n",
    "num_results = 1\n",
    "\n",
    "response = requests.get(f'{baseurl}?results={num_results}')"
   ]
  },
  {
   "cell_type": "markdown",
   "metadata": {},
   "source": [
    "## get object from json"
   ]
  },
  {
   "cell_type": "code",
   "execution_count": null,
   "metadata": {},
   "outputs": [],
   "source": [
    "if response.ok:\n",
    "    data = response.json()\n",
    "    if data['info']['results']:\n",
    "        results = data['results']"
   ]
  },
  {
   "cell_type": "code",
   "execution_count": null,
   "metadata": {},
   "outputs": [],
   "source": [
    "# results"
   ]
  },
  {
   "cell_type": "markdown",
   "metadata": {},
   "source": [
    "## get connection and write data"
   ]
  },
  {
   "cell_type": "code",
   "execution_count": null,
   "metadata": {},
   "outputs": [],
   "source": [
    "ele = next(iter(results))"
   ]
  },
  {
   "cell_type": "code",
   "execution_count": null,
   "metadata": {},
   "outputs": [],
   "source": [
    "[ print(f'{k}, {type(v)},\\n\\t{v.keys() if type(v) is dict else \"\"}') for (k, v) in ele.items()]\n",
    "\n",
    "ele"
   ]
  },
  {
   "cell_type": "markdown",
   "metadata": {},
   "source": [
    "## recursively iter dict"
   ]
  },
  {
   "cell_type": "code",
   "execution_count": null,
   "metadata": {},
   "outputs": [],
   "source": [
    "def dict_types(d, k = '', depth=0):\n",
    "    if not isinstance(d, dict) or not d:\n",
    "        return type(d)\n",
    "    return {k: dict_types(v, k, depth+1) for k, v in d.items()}"
   ]
  },
  {
   "cell_type": "code",
   "execution_count": null,
   "metadata": {},
   "outputs": [],
   "source": [
    "types = dict_types(ele)\n",
    "eletypes = {'user': types }\n",
    "eletypes"
   ]
  },
  {
   "cell_type": "code",
   "execution_count": null,
   "metadata": {},
   "outputs": [],
   "source": [
    "def print_dict(dictionary, ident = '', braces=1):\n",
    "    \"\"\" Recursively prints nested dictionaries.\"\"\"\n",
    "\n",
    "    for key, value in dictionary.items():\n",
    "        if isinstance(value, dict):\n",
    "            print(f'{ident}{\"[\"}{key}{\"]\"}') \n",
    "            print_dict(value, ident+'  ', braces+1)\n",
    "        else:\n",
    "            print(f'{ident}{key} = {type(value)}')"
   ]
  },
  {
   "cell_type": "code",
   "execution_count": null,
   "metadata": {},
   "outputs": [],
   "source": [
    "print_dict(ele)"
   ]
  },
  {
   "cell_type": "code",
   "execution_count": null,
   "metadata": {},
   "outputs": [],
   "source": []
  }
 ],
 "metadata": {
  "language_info": {
   "codemirror_mode": {
    "name": "ipython",
    "version": 3
   },
   "file_extension": ".py",
   "mimetype": "text/x-python",
   "name": "python",
   "nbconvert_exporter": "python",
   "pygments_lexer": "ipython3",
   "version": "3.7.7-final"
  },
  "orig_nbformat": 2,
  "kernelspec": {
   "name": "python37764bitjenvvenv3c22b8b579b445adbc454720daf775b2",
   "display_name": "Python 3.7.7 64-bit ('jenv': venv)"
  }
 },
 "nbformat": 4,
 "nbformat_minor": 2
}